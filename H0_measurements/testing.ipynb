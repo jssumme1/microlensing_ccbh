{
 "cells": [
  {
   "cell_type": "code",
   "execution_count": 124,
   "id": "d5d9fb84-5c76-4981-9e5a-75bbee775ed4",
   "metadata": {},
   "outputs": [],
   "source": [
    "import numpy as np\n",
    "from scipy.interpolate import interp1d\n",
    "import matplotlib.pyplot as plt\n",
    "from astropy.table import Table\n",
    "from astropy.io import fits\n",
    "from scipy.optimize import linear_sum_assignment"
   ]
  },
  {
   "cell_type": "code",
   "execution_count": 125,
   "id": "5b219f0f-5821-4022-b3b5-1dea159670c0",
   "metadata": {},
   "outputs": [],
   "source": [
    "# not useful rn but saved in case i need it\n",
    "SNe_names = ('2011fe 2006D 2007A 2005W 1999dq 2009ig 2002fk 2012fr 2001el 2021pit 2005df 2005df_ANU 2015F 2018gv 2001bg 1995al 1997bq '\n",
    "            +'2008fv 2008fv_comb 2021hpr 2019np 1994ae 2012ht 2015so ASASSN-15so 2011by 1998aq 2007sr Anchor 2012cg 1981B 1990N 1997bp 1999cp 2002cr '\n",
    "            +'2007af 2013aa 2017cbv 2009Y 2017erp 2005cf 2013dy 2006bh 1998dh 2002dp 2003du').split()\n",
    "\n",
    "# load the SNe in Hubble flow from Pantheon+\n",
    "SNe_file = 'data/Pantheon+SH0ES.dat'\n",
    "t = Table.read(SNe_file, format='ascii')\n",
    "\n",
    "# indices of Riess baseline analysis\n",
    "HF = np.where(t['USED_IN_SH0ES_HF'])\n",
    "# indices of Riess analysis variant 34 (most of Pantheon+)\n",
    "Panth = np.where((t['zHD'] > 0.0233) & (t['zHD'] < 0.8) & (t['IS_CALIBRATOR'] == False))\n",
    "# indices of Cepheid host SNe (calibrators)\n",
    "cal = np.where(t['IS_CALIBRATOR'])\n",
    "\n",
    "# q0 and j0 from Riess 2016 pg. 11\n",
    "q0 = -0.55\n",
    "j0 = 1\n",
    "\n",
    "# y vector entries\n",
    "HF_ydata = t[HF]['m_b_corr'] - 5 * np.log10(299792.458*t[HF]['zHD'] * (1 + (1/2) * (1 - q0) * t[HF]['zHD'] - (1/6) * (1 - q0 - 3 * q0**2 + j0) * t[HF]['zHD']**2)) - 25\n",
    "Panth_ydata = t[Panth]['m_b_corr'] - 5 * np.log10(299792.458*t[Panth]['zHD'] * (1 + (1/2) * (1 - q0) * t[Panth]['zHD'] - (1/6) * (1 - q0 - 3 * q0**2 + j0) * t[Panth]['zHD']**2)) - 25\n",
    "cal_ydata = t[cal]['m_b_corr']\n",
    "    \n",
    "# covariance matrix (just get entries for the SNe we are using)\n",
    "file = 'data/Pantheon+SH0ES_STAT+SYS.cov'\n",
    "cov = np.loadtxt(file)[1:]\n",
    "cov = cov.reshape(len(t), len(t))\n",
    "# start getting the covariance entries. also will need covariance between calibrators and Pantheon SNe\n",
    "HF_cov = cov[np.ix_(HF[0], HF[0])]\n",
    "Panth_cov = cov[np.ix_(Panth[0], Panth[0])]\n",
    "cal_cov = cov[np.ix_(cal[0], cal[0])]"
   ]
  },
  {
   "cell_type": "code",
   "execution_count": 126,
   "id": "ed8c2bbc-5c0a-45e0-94e1-4a0b7230bb71",
   "metadata": {},
   "outputs": [],
   "source": [
    "# Riess data vector\n",
    "Y_fits_path = 'data/ally_shoes_ceph_topantheonwt6.0_112221.fits'\n",
    "Y = fits.open(Y_fits_path)[0].data\n",
    "# Riess equation matrix \n",
    "L_fits_path = 'data/alll_shoes_ceph_topantheonwt6.0_112221.fits'\n",
    "L = fits.open(L_fits_path)[0].data\n",
    "# Riess covariance matrix\n",
    "C_fits_path = 'data/allc_shoes_ceph_topantheonwt6.0_112221.fits'\n",
    "C = fits.open(C_fits_path)[0].data\n",
    "\n",
    "n1 = 3215 # index of first SNe entry\n",
    "n2 = 3130 # index of first calibrator SNe\n",
    "n3 = 3207 # index of last calibrator SNe (not inclusive -- last is 3206)"
   ]
  },
  {
   "cell_type": "code",
   "execution_count": 127,
   "id": "2b1eee8e-df45-410d-abb1-64b0b08113b5",
   "metadata": {},
   "outputs": [],
   "source": [
    "# need to (try to) match the Pantheon and Riess data\n",
    "# variance and magnitude arrays for Riess and Pantheon catalogs\n",
    "c_riess = np.array([C[i, i] for i in range(n2, n3)])\n",
    "c_panth = np.array([cov[i, i] for i in cal])[0]\n",
    "y_riess = np.array(Y[n2:n3])\n",
    "y_panth = np.array(t[cal]['m_b_corr'])\n",
    "\n",
    "# calculate the distance between the Riess magnitude and Pantheon magnitudes\n",
    "magnitude_distances = np.abs(y_panth[:, np.newaxis] - y_riess[np.newaxis, :])\n",
    "\n",
    "# calculate the distance between the Riess variance and Pantheon variance\n",
    "covariance_distances = np.abs(c_panth[:, np.newaxis] - c_riess[np.newaxis, :])\n",
    "\n",
    "# normalize the distances\n",
    "normalized_magnitude_distances = magnitude_distances**2 / np.median(magnitude_distances)**2\n",
    "normalized_covariance_distances = covariance_distances**2 / np.median(covariance_distances)**2\n",
    "\n",
    "# combine the two normalized distances into a total distance matrix\n",
    "total_distances = normalized_magnitude_distances + normalized_covariance_distances\n",
    "\n",
    "# use Hungarian algorithm to find the best matching indices that minimize the total distance\n",
    "row_indices, col_indices = linear_sum_assignment(total_distances.T)\n",
    "\n",
    "# col_indices --> indices to match them"
   ]
  },
  {
   "cell_type": "code",
   "execution_count": 128,
   "id": "3c387df0-a111-45c9-a81d-66edb118350d",
   "metadata": {},
   "outputs": [],
   "source": [
    "# Y VECTOR\n",
    "# prepare data vectors of the correct size\n",
    "HF_Y = np.zeros(n1 + len(HF_ydata))\n",
    "Panth_Y = np.zeros(n1 + len(Panth_ydata))\n",
    "\n",
    "# duplicate entreis for non-SNE entries in Y vector\n",
    "HF_Y[:n1] = Y[:n1]\n",
    "Panth_Y[:n1] = Y[:n1]\n",
    "\n",
    "# replace calibrator entries in Y vector\n",
    "HF_Y[n2:n3] = cal_ydata[col_indices]\n",
    "Panth_Y[n2:n3] = cal_ydata[col_indices]\n",
    "\n",
    "# add new data entries from Pantheon+ to Y vector\n",
    "HF_Y[n1:] = HF_ydata\n",
    "Panth_Y[n1:] = Panth_ydata"
   ]
  },
  {
   "cell_type": "code",
   "execution_count": 129,
   "id": "bdefa852-538d-4f78-96ee-946577074fe5",
   "metadata": {},
   "outputs": [],
   "source": [
    "# C MATRIX\n",
    "# prepare covariance matrices of the correct size\n",
    "HF_C = np.zeros((n1 + len(HF_ydata), n1 + len(HF_ydata)))\n",
    "Panth_C = np.zeros((n1 + len(Panth_ydata), n1 + len(Panth_ydata)))\n",
    "\n",
    "# duplicate entries for non-SNe from Riess paper covariance\n",
    "HF_C[:n1, :n1] = C[:n1, :n1]\n",
    "Panth_C[:n1, :n1] = C[:n1, :n1]\n",
    "\n",
    "# replace calibrator entries in covariance matrix\n",
    "HF_C[n2:n3, n2:n3] = cal_cov[np.ix_(col_indices, col_indices)]\n",
    "Panth_C[n2:n3, n2:n3] = cal_cov[np.ix_(col_indices, col_indices)]\n",
    "\n",
    "# add new covariance entries from Pantheon+ non-calibrators\n",
    "HF_C[n1:, n1:] = HF_cov\n",
    "Panth_C[n1:, n1:] = Panth_cov\n",
    "\n",
    "# get covariance between Pantheon+ and calibrators\n",
    "HF_oddcov = cov[np.ix_(HF[0], cal[0][col_indices])]\n",
    "Panth_oddcov = cov[np.ix_(Panth[0], cal[0][col_indices])]\n",
    "\n",
    "# insert these covariance terms into the overall matrices\n",
    "HF_C[n2:n3, n1:] = HF_oddcov.T\n",
    "HF_C[n1:, n2:n3] = HF_oddcov\n",
    "Panth_C[n2:n3, n1:] = Panth_oddcov.T\n",
    "Panth_C[n1:, n2:n3] = Panth_oddcov"
   ]
  },
  {
   "cell_type": "code",
   "execution_count": 148,
   "id": "200a6d40-56cd-4d1e-9046-7226e4932471",
   "metadata": {},
   "outputs": [],
   "source": [
    "# L MATRIX\n",
    "# HF has same equation matrix as Riess\n",
    "HF_L = L\n",
    "\n",
    "# Need to add rows to the Pantheon L matrix since we have more SNe\n",
    "Panth_L = np.zeros((L.shape[0], n1+len(Panth_ydata)))\n",
    "Panth_L[:,:n1] = L[:,:n1]\n",
    "Panth_L[:,n1:] = L[:,-1][:,np.newaxis] * np.ones(len(Panth_ydata))[np.newaxis,:]"
   ]
  },
  {
   "cell_type": "code",
   "execution_count": 104,
   "id": "461d6dd0-f8e1-4f9d-8aea-2826bc750301",
   "metadata": {},
   "outputs": [],
   "source": [
    "cal_cov_riess = C[3130:3207, 3130:3207]\n",
    "HF_cov_riess = C[3215:, 3215:]"
   ]
  },
  {
   "cell_type": "code",
   "execution_count": 241,
   "id": "ee5e36b0-48f8-421c-a7b1-0dd4814c1b1b",
   "metadata": {},
   "outputs": [
    {
     "data": {
      "text/plain": [
       "array([[0.03177108, 0.00575443],\n",
       "       [0.00575443, 0.03456656]])"
      ]
     },
     "execution_count": 241,
     "metadata": {},
     "output_type": "execute_result"
    }
   ],
   "source": [
    "cal_cov[:2,:2]"
   ]
  },
  {
   "cell_type": "code",
   "execution_count": 239,
   "id": "01009fa1-b90c-4d06-8ad0-817f23cdaefb",
   "metadata": {},
   "outputs": [
    {
     "data": {
      "text/plain": [
       "array([[0.01419299, 0.00406494],\n",
       "       [0.00406494, 0.01691981]], dtype='>f4')"
      ]
     },
     "execution_count": 239,
     "metadata": {},
     "output_type": "execute_result"
    }
   ],
   "source": [
    "C[3130:3132,3130:3132]"
   ]
  },
  {
   "cell_type": "code",
   "execution_count": 209,
   "id": "3020280f-d87c-4d69-b7fa-866432a53434",
   "metadata": {},
   "outputs": [
    {
     "data": {
      "text/html": [
       "<i>Row index=0</i>\n",
       "<table id=\"table5129488704\">\n",
       "<thead><tr><th>CID</th><th>IDSURVEY</th><th>zHD</th><th>zHDERR</th><th>zCMB</th><th>zCMBERR</th><th>zHEL</th><th>zHELERR</th><th>m_b_corr</th><th>m_b_corr_err_DIAG</th><th>MU_SH0ES</th><th>MU_SH0ES_ERR_DIAG</th><th>CEPH_DIST</th><th>IS_CALIBRATOR</th><th>USED_IN_SH0ES_HF</th><th>c</th><th>cERR</th><th>x1</th><th>x1ERR</th><th>mB</th><th>mBERR</th><th>x0</th><th>x0ERR</th><th>COV_x1_c</th><th>COV_x1_x0</th><th>COV_c_x0</th><th>RA</th><th>DEC</th><th>HOST_RA</th><th>HOST_DEC</th><th>HOST_ANGSEP</th><th>VPEC</th><th>VPECERR</th><th>MWEBV</th><th>HOST_LOGMASS</th><th>HOST_LOGMASS_ERR</th><th>PKMJD</th><th>PKMJDERR</th><th>NDOF</th><th>FITCHI2</th><th>FITPROB</th><th>m_b_corr_err_RAW</th><th>m_b_corr_err_VPEC</th><th>biasCor_m_b</th><th>biasCorErr_m_b</th><th>biasCor_m_b_COVSCALE</th><th>biasCor_m_b_COVADD</th></tr></thead>\n",
       "<thead><tr><th>str15</th><th>int64</th><th>float64</th><th>float64</th><th>float64</th><th>float64</th><th>float64</th><th>float64</th><th>float64</th><th>float64</th><th>float64</th><th>float64</th><th>float64</th><th>int64</th><th>int64</th><th>float64</th><th>float64</th><th>float64</th><th>float64</th><th>float64</th><th>float64</th><th>float64</th><th>float64</th><th>float64</th><th>float64</th><th>float64</th><th>float64</th><th>float64</th><th>int64</th><th>int64</th><th>float64</th><th>float64</th><th>int64</th><th>float64</th><th>float64</th><th>float64</th><th>float64</th><th>float64</th><th>int64</th><th>float64</th><th>float64</th><th>float64</th><th>float64</th><th>float64</th><th>float64</th><th>float64</th><th>float64</th></tr></thead>\n",
       "<tr><td>2011fe</td><td>51</td><td>0.00122</td><td>0.00084</td><td>0.00122</td><td>2e-05</td><td>0.00082</td><td>2e-05</td><td>9.74571</td><td>1.51621</td><td>28.9987</td><td>1.51645</td><td>29.177</td><td>1</td><td>0</td><td>-0.1076</td><td>0.04008</td><td>-0.548188</td><td>0.13373</td><td>9.58436</td><td>0.0327221</td><td>2.63181</td><td>0.0793177</td><td>0.00011378</td><td>-0.00052525</td><td>-0.00272765</td><td>210.774</td><td>54.2737</td><td>-999</td><td>-999</td><td>-9.0</td><td>0.0</td><td>250</td><td>0.00758935</td><td>10.677</td><td>-9.0</td><td>55815.0</td><td>0.1071</td><td>36</td><td>26.8859</td><td>0.86447</td><td>0.0991</td><td>1.496</td><td>0.0381</td><td>0.005</td><td>1.0</td><td>0.003</td></tr>\n",
       "</table>"
      ],
      "text/plain": [
       "<Row index=0>\n",
       " CID   IDSURVEY   zHD    zHDERR   zCMB  zCMBERR   zHEL  zHELERR m_b_corr m_b_corr_err_DIAG MU_SH0ES MU_SH0ES_ERR_DIAG CEPH_DIST IS_CALIBRATOR USED_IN_SH0ES_HF    c      cERR      x1     x1ERR     mB     mBERR      x0     x0ERR    COV_x1_c   COV_x1_x0    COV_c_x0     RA     DEC   HOST_RA HOST_DEC HOST_ANGSEP   VPEC  VPECERR   MWEBV    HOST_LOGMASS HOST_LOGMASS_ERR  PKMJD  PKMJDERR  NDOF FITCHI2 FITPROB m_b_corr_err_RAW m_b_corr_err_VPEC biasCor_m_b biasCorErr_m_b biasCor_m_b_COVSCALE biasCor_m_b_COVADD\n",
       "str15   int64   float64 float64 float64 float64 float64 float64 float64       float64      float64       float64       float64      int64          int64       float64 float64  float64  float64 float64  float64  float64  float64   float64     float64     float64   float64 float64  int64   int64     float64   float64  int64   float64     float64        float64      float64 float64  int64 float64 float64     float64           float64        float64      float64           float64             float64      \n",
       "------ -------- ------- ------- ------- ------- ------- ------- -------- ----------------- -------- ----------------- --------- ------------- ---------------- ------- ------- --------- ------- ------- --------- ------- --------- ---------- ----------- ----------- ------- ------- ------- -------- ----------- ------- ------- ---------- ------------ ---------------- ------- -------- ----- ------- ------- ---------------- ----------------- ----------- -------------- -------------------- ------------------\n",
       "2011fe       51 0.00122 0.00084 0.00122   2e-05 0.00082   2e-05  9.74571           1.51621  28.9987           1.51645    29.177             1                0 -0.1076 0.04008 -0.548188 0.13373 9.58436 0.0327221 2.63181 0.0793177 0.00011378 -0.00052525 -0.00272765 210.774 54.2737    -999     -999        -9.0     0.0     250 0.00758935       10.677             -9.0 55815.0   0.1071    36 26.8859 0.86447           0.0991             1.496      0.0381          0.005                  1.0              0.003"
      ]
     },
     "execution_count": 209,
     "metadata": {},
     "output_type": "execute_result"
    }
   ],
   "source": [
    "t[0]"
   ]
  },
  {
   "cell_type": "code",
   "execution_count": 208,
   "id": "f3bc2a4c-ef9d-4304-ae9e-7a36bf290c05",
   "metadata": {},
   "outputs": [
    {
     "data": {
      "text/plain": [
       "np.float64(0.03177108)"
      ]
     },
     "execution_count": 208,
     "metadata": {},
     "output_type": "execute_result"
    }
   ],
   "source": [
    "cal_cov[0,0]"
   ]
  },
  {
   "cell_type": "code",
   "execution_count": 161,
   "id": "3e477e82-d608-4259-a1dc-a42dc0a3ae64",
   "metadata": {},
   "outputs": [
    {
     "data": {
      "text/plain": [
       "array([[0., 0., 1., 0., 0.],\n",
       "       [0., 0., 1., 0., 0.],\n",
       "       [0., 0., 0., 1., 0.],\n",
       "       [0., 0., 0., 1., 0.],\n",
       "       [0., 0., 0., 1., 0.]], dtype='>f4')"
      ]
     },
     "execution_count": 161,
     "metadata": {},
     "output_type": "execute_result"
    }
   ],
   "source": [
    "L[0:5,300:305].T"
   ]
  },
  {
   "cell_type": "code",
   "execution_count": null,
   "id": "437279ab-20d1-406c-b4b2-ef7f7e058ad3",
   "metadata": {},
   "outputs": [],
   "source": []
  }
 ],
 "metadata": {
  "kernelspec": {
   "display_name": "Python 3 (ipykernel)",
   "language": "python",
   "name": "python3"
  },
  "language_info": {
   "codemirror_mode": {
    "name": "ipython",
    "version": 3
   },
   "file_extension": ".py",
   "mimetype": "text/x-python",
   "name": "python",
   "nbconvert_exporter": "python",
   "pygments_lexer": "ipython3",
   "version": "3.10.14"
  }
 },
 "nbformat": 4,
 "nbformat_minor": 5
}
